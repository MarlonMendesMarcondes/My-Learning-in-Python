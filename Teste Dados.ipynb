{
 "cells": [
  {
   "cell_type": "code",
   "execution_count": 3,
   "id": "01214a27",
   "metadata": {},
   "outputs": [
    {
     "name": "stdout",
     "output_type": "stream",
     "text": [
      "Quantas vezes que você quer rolar os dados?2\n",
      "<function dados at 0x000001ABF9612E50>\n"
     ]
    }
   ],
   "source": [
    "import random\n",
    "\n",
    "rolagem = int(input('Quantas vezes que você quer rolar os dados?'))\n",
    "\n",
    "def dados():\n",
    "    for dado in rolagem:\n",
    "        dado = random(1,6)\n",
    "        \n",
    "        print('O valor do dado foi: ',dado)\n",
    "\n",
    "print(dados)"
   ]
  },
  {
   "cell_type": "code",
   "execution_count": null,
   "id": "de52a812",
   "metadata": {},
   "outputs": [],
   "source": []
  }
 ],
 "metadata": {
  "kernelspec": {
   "display_name": "Python 3 (ipykernel)",
   "language": "python",
   "name": "python3"
  },
  "language_info": {
   "codemirror_mode": {
    "name": "ipython",
    "version": 3
   },
   "file_extension": ".py",
   "mimetype": "text/x-python",
   "name": "python",
   "nbconvert_exporter": "python",
   "pygments_lexer": "ipython3",
   "version": "3.9.7"
  }
 },
 "nbformat": 4,
 "nbformat_minor": 5
}
